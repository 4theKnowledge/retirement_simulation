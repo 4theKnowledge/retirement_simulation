{
 "cells": [
  {
   "cell_type": "markdown",
   "metadata": {},
   "source": [
    "# Employment Progression Model - a proxy for income growth?"
   ]
  },
  {
   "cell_type": "code",
   "execution_count": 1,
   "metadata": {},
   "outputs": [],
   "source": [
    "import numpy as np\n",
    "import matplotlib.pyplot as plt\n",
    "import pandas as pd"
   ]
  },
  {
   "cell_type": "code",
   "execution_count": 23,
   "metadata": {},
   "outputs": [],
   "source": [
    "# [yrs in role until promotion, probability of promotion, yearly income]\n",
    "employ_stages = {'JE': [5, 1, 60000], 'SE': [5, 0.8, 90000], 'PE': [10, 0.5, 120000],\n",
    "                  'EM': [5, 0.01, 140000], 'CTO': [5, 0.001, 200000], 'CEO': [2, 0.00025, 500000]}"
   ]
  },
  {
   "cell_type": "code",
   "execution_count": 24,
   "metadata": {},
   "outputs": [
    {
     "data": {
      "text/plain": [
       "[5, 1, 60000]"
      ]
     },
     "execution_count": 24,
     "metadata": {},
     "output_type": "execute_result"
    }
   ],
   "source": [
    "employ_stages['JE']"
   ]
  },
  {
   "cell_type": "code",
   "execution_count": 25,
   "metadata": {},
   "outputs": [],
   "source": [
    "def employ_sim(iters=250):\n",
    "    \n",
    "    cat = 'EM'\n",
    "    \n",
    "    for i in range(iters):\n",
    "        data = {'year': list(range(30))}\n",
    "        df = pd.DataFrame(data)\n",
    "        for key, value in employ_stages.items():\n",
    "            df[key] = np.random.binomial(1,value[1], len(df))\n",
    "        cat_count = sum(df[cat])\n",
    "        if cat_count > 0:\n",
    "            print(f'Sim {i+1} | Years in {cat} role: {cat_count}')\n"
   ]
  },
  {
   "cell_type": "code",
   "execution_count": 26,
   "metadata": {
    "scrolled": true
   },
   "outputs": [
    {
     "name": "stdout",
     "output_type": "stream",
     "text": [
      "Sim 5 | Years in EM role: 1\n",
      "Sim 8 | Years in EM role: 1\n",
      "Sim 15 | Years in EM role: 1\n",
      "Sim 23 | Years in EM role: 1\n",
      "Sim 26 | Years in EM role: 1\n",
      "Sim 32 | Years in EM role: 1\n",
      "Sim 33 | Years in EM role: 1\n",
      "Sim 34 | Years in EM role: 1\n",
      "Sim 37 | Years in EM role: 1\n",
      "Sim 40 | Years in EM role: 1\n",
      "Sim 43 | Years in EM role: 1\n",
      "Sim 44 | Years in EM role: 1\n",
      "Sim 48 | Years in EM role: 2\n",
      "Sim 58 | Years in EM role: 1\n",
      "Sim 63 | Years in EM role: 1\n",
      "Sim 64 | Years in EM role: 1\n",
      "Sim 67 | Years in EM role: 1\n",
      "Sim 72 | Years in EM role: 1\n",
      "Sim 85 | Years in EM role: 1\n",
      "Sim 92 | Years in EM role: 1\n",
      "Sim 94 | Years in EM role: 1\n",
      "Sim 95 | Years in EM role: 1\n",
      "Sim 99 | Years in EM role: 1\n",
      "Sim 103 | Years in EM role: 1\n",
      "Sim 105 | Years in EM role: 2\n",
      "Sim 107 | Years in EM role: 1\n",
      "Sim 108 | Years in EM role: 1\n",
      "Sim 114 | Years in EM role: 1\n",
      "Sim 130 | Years in EM role: 1\n",
      "Sim 131 | Years in EM role: 1\n",
      "Sim 141 | Years in EM role: 1\n",
      "Sim 145 | Years in EM role: 2\n",
      "Sim 154 | Years in EM role: 1\n",
      "Sim 155 | Years in EM role: 1\n",
      "Sim 157 | Years in EM role: 1\n",
      "Sim 158 | Years in EM role: 1\n",
      "Sim 165 | Years in EM role: 1\n",
      "Sim 172 | Years in EM role: 1\n",
      "Sim 175 | Years in EM role: 1\n",
      "Sim 177 | Years in EM role: 1\n",
      "Sim 178 | Years in EM role: 1\n",
      "Sim 181 | Years in EM role: 1\n",
      "Sim 182 | Years in EM role: 1\n",
      "Sim 189 | Years in EM role: 1\n",
      "Sim 193 | Years in EM role: 2\n",
      "Sim 202 | Years in EM role: 1\n",
      "Sim 205 | Years in EM role: 1\n",
      "Sim 206 | Years in EM role: 1\n",
      "Sim 208 | Years in EM role: 1\n",
      "Sim 214 | Years in EM role: 1\n",
      "Sim 216 | Years in EM role: 1\n",
      "Sim 217 | Years in EM role: 1\n",
      "Sim 219 | Years in EM role: 1\n",
      "Sim 225 | Years in EM role: 1\n",
      "Sim 226 | Years in EM role: 2\n",
      "Sim 228 | Years in EM role: 2\n",
      "Sim 231 | Years in EM role: 1\n",
      "Sim 232 | Years in EM role: 1\n",
      "Sim 233 | Years in EM role: 1\n",
      "Sim 234 | Years in EM role: 1\n",
      "Sim 243 | Years in EM role: 1\n",
      "Sim 249 | Years in EM role: 1\n",
      "Sim 250 | Years in EM role: 1\n"
     ]
    }
   ],
   "source": [
    "employ_sim()"
   ]
  },
  {
   "cell_type": "code",
   "execution_count": 27,
   "metadata": {},
   "outputs": [],
   "source": [
    "data = {'year': list(range(30))}\n",
    "df = pd.DataFrame(data)\n",
    "for key, value in employ_stages.items():\n",
    "        df[key] = np.random.binomial(1,value[1], len(df))"
   ]
  },
  {
   "cell_type": "code",
   "execution_count": 28,
   "metadata": {},
   "outputs": [
    {
     "data": {
      "text/html": [
       "<div>\n",
       "<style scoped>\n",
       "    .dataframe tbody tr th:only-of-type {\n",
       "        vertical-align: middle;\n",
       "    }\n",
       "\n",
       "    .dataframe tbody tr th {\n",
       "        vertical-align: top;\n",
       "    }\n",
       "\n",
       "    .dataframe thead th {\n",
       "        text-align: right;\n",
       "    }\n",
       "</style>\n",
       "<table border=\"1\" class=\"dataframe\">\n",
       "  <thead>\n",
       "    <tr style=\"text-align: right;\">\n",
       "      <th></th>\n",
       "      <th>year</th>\n",
       "      <th>JE</th>\n",
       "      <th>SE</th>\n",
       "      <th>PE</th>\n",
       "      <th>EM</th>\n",
       "      <th>CTO</th>\n",
       "      <th>CEO</th>\n",
       "    </tr>\n",
       "  </thead>\n",
       "  <tbody>\n",
       "    <tr>\n",
       "      <th>0</th>\n",
       "      <td>0</td>\n",
       "      <td>1</td>\n",
       "      <td>1</td>\n",
       "      <td>1</td>\n",
       "      <td>0</td>\n",
       "      <td>0</td>\n",
       "      <td>0</td>\n",
       "    </tr>\n",
       "    <tr>\n",
       "      <th>1</th>\n",
       "      <td>1</td>\n",
       "      <td>1</td>\n",
       "      <td>1</td>\n",
       "      <td>0</td>\n",
       "      <td>0</td>\n",
       "      <td>0</td>\n",
       "      <td>0</td>\n",
       "    </tr>\n",
       "    <tr>\n",
       "      <th>2</th>\n",
       "      <td>2</td>\n",
       "      <td>1</td>\n",
       "      <td>1</td>\n",
       "      <td>1</td>\n",
       "      <td>0</td>\n",
       "      <td>0</td>\n",
       "      <td>0</td>\n",
       "    </tr>\n",
       "    <tr>\n",
       "      <th>3</th>\n",
       "      <td>3</td>\n",
       "      <td>1</td>\n",
       "      <td>0</td>\n",
       "      <td>1</td>\n",
       "      <td>0</td>\n",
       "      <td>0</td>\n",
       "      <td>0</td>\n",
       "    </tr>\n",
       "    <tr>\n",
       "      <th>4</th>\n",
       "      <td>4</td>\n",
       "      <td>1</td>\n",
       "      <td>1</td>\n",
       "      <td>0</td>\n",
       "      <td>0</td>\n",
       "      <td>0</td>\n",
       "      <td>0</td>\n",
       "    </tr>\n",
       "  </tbody>\n",
       "</table>\n",
       "</div>"
      ],
      "text/plain": [
       "   year  JE  SE  PE  EM  CTO  CEO\n",
       "0     0   1   1   1   0    0    0\n",
       "1     1   1   1   0   0    0    0\n",
       "2     2   1   1   1   0    0    0\n",
       "3     3   1   0   1   0    0    0\n",
       "4     4   1   1   0   0    0    0"
      ]
     },
     "execution_count": 28,
     "metadata": {},
     "output_type": "execute_result"
    }
   ],
   "source": [
    "df.head()"
   ]
  },
  {
   "cell_type": "code",
   "execution_count": 33,
   "metadata": {},
   "outputs": [
    {
     "data": {
      "text/plain": [
       "5"
      ]
     },
     "execution_count": 33,
     "metadata": {},
     "output_type": "execute_result"
    }
   ],
   "source": [
    "employ_stages['JE'][0]"
   ]
  },
  {
   "cell_type": "code",
   "execution_count": 35,
   "metadata": {},
   "outputs": [
    {
     "data": {
      "text/plain": [
       "0     False\n",
       "1     False\n",
       "2     False\n",
       "3     False\n",
       "4      True\n",
       "5      True\n",
       "6      True\n",
       "7      True\n",
       "8      True\n",
       "9      True\n",
       "10     True\n",
       "11     True\n",
       "12     True\n",
       "13     True\n",
       "14     True\n",
       "15     True\n",
       "16     True\n",
       "17     True\n",
       "18     True\n",
       "19     True\n",
       "20     True\n",
       "21     True\n",
       "22     True\n",
       "23     True\n",
       "24     True\n",
       "25     True\n",
       "26     True\n",
       "27     True\n",
       "28     True\n",
       "29     True\n",
       "Name: JE, dtype: bool"
      ]
     },
     "execution_count": 35,
     "metadata": {},
     "output_type": "execute_result"
    }
   ],
   "source": [
    "df['JE'].rolling(employ_stages['JE'][0]).sum() == employ_stages['JE'][0]"
   ]
  },
  {
   "cell_type": "code",
   "execution_count": 36,
   "metadata": {},
   "outputs": [],
   "source": [
    "df_je_mask = df['JE'].rolling(employ_stages['JE'][0]).sum() == employ_stages['JE'][0]"
   ]
  },
  {
   "cell_type": "code",
   "execution_count": 37,
   "metadata": {},
   "outputs": [
    {
     "data": {
      "text/plain": [
       "0     0\n",
       "1     0\n",
       "2     0\n",
       "3     0\n",
       "4     1\n",
       "5     1\n",
       "6     1\n",
       "7     1\n",
       "8     1\n",
       "9     0\n",
       "10    1\n",
       "11    1\n",
       "12    1\n",
       "13    1\n",
       "14    1\n",
       "15    1\n",
       "16    1\n",
       "17    1\n",
       "18    1\n",
       "19    1\n",
       "20    0\n",
       "21    1\n",
       "22    1\n",
       "23    0\n",
       "24    1\n",
       "25    1\n",
       "26    1\n",
       "27    1\n",
       "28    1\n",
       "29    1\n",
       "dtype: int32"
      ]
     },
     "execution_count": 37,
     "metadata": {},
     "output_type": "execute_result"
    }
   ],
   "source": [
    "df['SE'] * df_je_mask"
   ]
  },
  {
   "cell_type": "code",
   "execution_count": 38,
   "metadata": {},
   "outputs": [],
   "source": [
    "df_se = df['SE'] * df_je_mask"
   ]
  },
  {
   "cell_type": "code",
   "execution_count": 39,
   "metadata": {},
   "outputs": [
    {
     "data": {
      "text/plain": [
       "0     False\n",
       "1     False\n",
       "2     False\n",
       "3     False\n",
       "4     False\n",
       "5     False\n",
       "6     False\n",
       "7     False\n",
       "8      True\n",
       "9     False\n",
       "10    False\n",
       "11    False\n",
       "12    False\n",
       "13    False\n",
       "14     True\n",
       "15     True\n",
       "16     True\n",
       "17     True\n",
       "18     True\n",
       "19     True\n",
       "20    False\n",
       "21    False\n",
       "22    False\n",
       "23    False\n",
       "24    False\n",
       "25    False\n",
       "26    False\n",
       "27    False\n",
       "28     True\n",
       "29     True\n",
       "dtype: bool"
      ]
     },
     "execution_count": 39,
     "metadata": {},
     "output_type": "execute_result"
    }
   ],
   "source": [
    "df_se.rolling(employ_stages['SE'][0]).sum() == employ_stages['SE'][0]"
   ]
  },
  {
   "cell_type": "code",
   "execution_count": 40,
   "metadata": {},
   "outputs": [],
   "source": [
    "df_se_mask = df_se.rolling(employ_stages['SE'][0]).sum() == employ_stages['SE'][0]"
   ]
  },
  {
   "cell_type": "code",
   "execution_count": 41,
   "metadata": {},
   "outputs": [
    {
     "data": {
      "text/plain": [
       "0     0\n",
       "1     0\n",
       "2     0\n",
       "3     0\n",
       "4     0\n",
       "5     0\n",
       "6     0\n",
       "7     0\n",
       "8     0\n",
       "9     0\n",
       "10    0\n",
       "11    0\n",
       "12    0\n",
       "13    0\n",
       "14    1\n",
       "15    0\n",
       "16    1\n",
       "17    1\n",
       "18    1\n",
       "19    1\n",
       "20    0\n",
       "21    0\n",
       "22    0\n",
       "23    0\n",
       "24    0\n",
       "25    0\n",
       "26    0\n",
       "27    0\n",
       "28    0\n",
       "29    0\n",
       "dtype: int32"
      ]
     },
     "execution_count": 41,
     "metadata": {},
     "output_type": "execute_result"
    }
   ],
   "source": [
    "df['PE'] * df_se_mask"
   ]
  },
  {
   "cell_type": "markdown",
   "metadata": {},
   "source": [
    "## fuck this... Markov Chain it is..."
   ]
  },
  {
   "cell_type": "code",
   "execution_count": null,
   "metadata": {},
   "outputs": [],
   "source": []
  },
  {
   "cell_type": "code",
   "execution_count": null,
   "metadata": {},
   "outputs": [],
   "source": []
  },
  {
   "cell_type": "code",
   "execution_count": null,
   "metadata": {},
   "outputs": [],
   "source": []
  },
  {
   "cell_type": "code",
   "execution_count": null,
   "metadata": {},
   "outputs": [],
   "source": []
  },
  {
   "cell_type": "code",
   "execution_count": null,
   "metadata": {},
   "outputs": [],
   "source": []
  },
  {
   "cell_type": "code",
   "execution_count": null,
   "metadata": {},
   "outputs": [],
   "source": []
  },
  {
   "cell_type": "code",
   "execution_count": null,
   "metadata": {},
   "outputs": [],
   "source": []
  },
  {
   "cell_type": "markdown",
   "metadata": {},
   "source": [
    "### Once a role has been acheived, its probablity goes to 1..."
   ]
  },
  {
   "cell_type": "code",
   "execution_count": null,
   "metadata": {},
   "outputs": [],
   "source": []
  }
 ],
 "metadata": {
  "kernelspec": {
   "display_name": "Python 3",
   "language": "python",
   "name": "python3"
  },
  "language_info": {
   "codemirror_mode": {
    "name": "ipython",
    "version": 3
   },
   "file_extension": ".py",
   "mimetype": "text/x-python",
   "name": "python",
   "nbconvert_exporter": "python",
   "pygments_lexer": "ipython3",
   "version": "3.7.3"
  }
 },
 "nbformat": 4,
 "nbformat_minor": 2
}
