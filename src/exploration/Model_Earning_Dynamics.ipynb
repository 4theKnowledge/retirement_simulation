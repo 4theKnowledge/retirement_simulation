{
 "cells": [
  {
   "cell_type": "markdown",
   "metadata": {},
   "source": [
    "# Model Earning Dynamics"
   ]
  },
  {
   "cell_type": "markdown",
   "metadata": {},
   "source": [
    "> Altonji, Joseph G., Anthony A. Smith Jr, and Ivan Vidangos. \"Modeling earnings dynamics.\" Econometrica 81, no. 4 (2013): 1395-1454."
   ]
  },
  {
   "cell_type": "markdown",
   "metadata": {},
   "source": [
    "Factors to consider:\n",
    "- Hours\n",
    "- Wages\n",
    "- Unemployment"
   ]
  },
  {
   "cell_type": "markdown",
   "metadata": {},
   "source": [
    "Labor market transitions, wages, and hours depend on three exogenous variables:\n",
    "- Race\n",
    "- Education\n",
    "- Potential Experience\n",
    "<br>\n",
    "and two permanent unobserved heterogeneity componetns:\n",
    "- \"Unobserved productivity or ability\"\n",
    "- \"Propensity to move\""
   ]
  },
  {
   "cell_type": "markdown",
   "metadata": {},
   "source": [
    "Employment transition and job changes\n",
    "- Employment transitions do not incur unemployment whereas job changes do.\n",
    "- Job changes would then require the individual to draw from savings."
   ]
  },
  {
   "cell_type": "markdown",
   "metadata": {},
   "source": [
    "Factors impacting wage:\n",
    "- overtime\n",
    "- multiple job holding\n",
    "- bonuses and commissions\n",
    "- job mobility\n",
    "- for salarid workers, wage reflects set work schedule but annual hours worked may vary."
   ]
  },
  {
   "cell_type": "code",
   "execution_count": null,
   "metadata": {},
   "outputs": [],
   "source": []
  },
  {
   "cell_type": "code",
   "execution_count": null,
   "metadata": {},
   "outputs": [],
   "source": []
  },
  {
   "cell_type": "code",
   "execution_count": null,
   "metadata": {},
   "outputs": [],
   "source": []
  },
  {
   "cell_type": "code",
   "execution_count": null,
   "metadata": {},
   "outputs": [],
   "source": []
  },
  {
   "cell_type": "code",
   "execution_count": null,
   "metadata": {},
   "outputs": [],
   "source": []
  },
  {
   "cell_type": "code",
   "execution_count": null,
   "metadata": {},
   "outputs": [],
   "source": []
  }
 ],
 "metadata": {
  "kernelspec": {
   "display_name": "Python 3",
   "language": "python",
   "name": "python3"
  },
  "language_info": {
   "codemirror_mode": {
    "name": "ipython",
    "version": 3
   },
   "file_extension": ".py",
   "mimetype": "text/x-python",
   "name": "python",
   "nbconvert_exporter": "python",
   "pygments_lexer": "ipython3",
   "version": "3.7.3"
  }
 },
 "nbformat": 4,
 "nbformat_minor": 4
}
