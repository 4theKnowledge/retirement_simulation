{
 "cells": [
  {
   "cell_type": "markdown",
   "metadata": {},
   "source": [
    "# Personal Financial Modelling\n",
    "- src: https://pbpython.com/amortization-model-revised.html"
   ]
  },
  {
   "cell_type": "code",
   "execution_count": 1,
   "metadata": {},
   "outputs": [],
   "source": [
    "import pandas as pd\n",
    "from datetime import date\n",
    "import numpy as np\n",
    "from collections import OrderedDict\n",
    "from dateutil.relativedelta import *\n",
    "from datetime import datetime, timedelta\n",
    "%matplotlib inline"
   ]
  },
  {
   "cell_type": "code",
   "execution_count": 2,
   "metadata": {},
   "outputs": [],
   "source": [
    "from absl import flags\n",
    "from absl import app"
   ]
  },
  {
   "cell_type": "code",
   "execution_count": 3,
   "metadata": {},
   "outputs": [],
   "source": [
    "FLAGS = flags.FLAGS"
   ]
  },
  {
   "cell_type": "code",
   "execution_count": 6,
   "metadata": {},
   "outputs": [
    {
     "ename": "DuplicateFlagError",
     "evalue": "The flag 'mortgage_principal' is defined twice. First from c:\\users\\tyler\\appdata\\local\\programs\\python\\python37\\lib\\site-packages\\ipykernel_launcher.py, Second from c:\\users\\tyler\\appdata\\local\\programs\\python\\python37\\lib\\site-packages\\ipykernel_launcher.py.  Description from first occurrence: Loan amount (principal)",
     "output_type": "error",
     "traceback": [
      "\u001b[1;31m---------------------------------------------------------------------------\u001b[0m",
      "\u001b[1;31mDuplicateFlagError\u001b[0m                        Traceback (most recent call last)",
      "\u001b[1;32m<ipython-input-6-8c76471695cb>\u001b[0m in \u001b[0;36m<module>\u001b[1;34m\u001b[0m\n\u001b[1;32m----> 1\u001b[1;33m \u001b[0mflags\u001b[0m\u001b[1;33m.\u001b[0m\u001b[0mDEFINE_float\u001b[0m\u001b[1;33m(\u001b[0m\u001b[1;34m'mortgage_principal'\u001b[0m\u001b[1;33m,\u001b[0m \u001b[1;36m500000\u001b[0m\u001b[1;33m,\u001b[0m \u001b[1;34m'Loan amount (principal)'\u001b[0m\u001b[1;33m)\u001b[0m\u001b[1;33m\u001b[0m\u001b[1;33m\u001b[0m\u001b[0m\n\u001b[0m\u001b[0;32m      2\u001b[0m \u001b[0mflags\u001b[0m\u001b[1;33m.\u001b[0m\u001b[0mDEFINE_float\u001b[0m\u001b[1;33m(\u001b[0m\u001b[1;34m'interest_rate'\u001b[0m\u001b[1;33m,\u001b[0m \u001b[1;36m0.04\u001b[0m\u001b[1;33m,\u001b[0m \u001b[1;34m'Interest rate for mortage amortization'\u001b[0m\u001b[1;33m)\u001b[0m\u001b[1;33m\u001b[0m\u001b[1;33m\u001b[0m\u001b[0m\n\u001b[0;32m      3\u001b[0m \u001b[0mflags\u001b[0m\u001b[1;33m.\u001b[0m\u001b[0mDEFINE_integer\u001b[0m\u001b[1;33m(\u001b[0m\u001b[1;34m'mortgage_years'\u001b[0m\u001b[1;33m,\u001b[0m \u001b[1;36m30\u001b[0m\u001b[1;33m,\u001b[0m \u001b[1;34m'Mortgage length'\u001b[0m\u001b[1;33m)\u001b[0m\u001b[1;33m\u001b[0m\u001b[1;33m\u001b[0m\u001b[0m\n\u001b[0;32m      4\u001b[0m \u001b[0mflags\u001b[0m\u001b[1;33m.\u001b[0m\u001b[0mDEFINE_string\u001b[0m\u001b[1;33m(\u001b[0m\u001b[1;34m'interest_type'\u001b[0m\u001b[1;33m,\u001b[0m \u001b[1;34m'fixed'\u001b[0m\u001b[1;33m,\u001b[0m \u001b[1;34m'Interest rate type - fixed or variable'\u001b[0m\u001b[1;33m)\u001b[0m\u001b[1;33m\u001b[0m\u001b[1;33m\u001b[0m\u001b[0m\n\u001b[0;32m      5\u001b[0m \u001b[0mflags\u001b[0m\u001b[1;33m.\u001b[0m\u001b[0mDEFINE_string\u001b[0m\u001b[1;33m(\u001b[0m\u001b[1;34m'variable_interest_fluct'\u001b[0m\u001b[1;33m,\u001b[0m \u001b[1;34m'conservative'\u001b[0m\u001b[1;33m,\u001b[0m \u001b[1;34m'Interest rate fluctuation / behaviour setting'\u001b[0m\u001b[1;33m)\u001b[0m\u001b[1;33m\u001b[0m\u001b[1;33m\u001b[0m\u001b[0m\n",
      "\u001b[1;32mc:\\users\\tyler\\appdata\\local\\programs\\python\\python37\\lib\\site-packages\\absl\\flags\\_defines.py\u001b[0m in \u001b[0;36mDEFINE_float\u001b[1;34m(name, default, help, lower_bound, upper_bound, flag_values, **args)\u001b[0m\n\u001b[0;32m    289\u001b[0m   \u001b[0mparser\u001b[0m \u001b[1;33m=\u001b[0m \u001b[0m_argument_parser\u001b[0m\u001b[1;33m.\u001b[0m\u001b[0mFloatParser\u001b[0m\u001b[1;33m(\u001b[0m\u001b[0mlower_bound\u001b[0m\u001b[1;33m,\u001b[0m \u001b[0mupper_bound\u001b[0m\u001b[1;33m)\u001b[0m\u001b[1;33m\u001b[0m\u001b[1;33m\u001b[0m\u001b[0m\n\u001b[0;32m    290\u001b[0m   \u001b[0mserializer\u001b[0m \u001b[1;33m=\u001b[0m \u001b[0m_argument_parser\u001b[0m\u001b[1;33m.\u001b[0m\u001b[0mArgumentSerializer\u001b[0m\u001b[1;33m(\u001b[0m\u001b[1;33m)\u001b[0m\u001b[1;33m\u001b[0m\u001b[1;33m\u001b[0m\u001b[0m\n\u001b[1;32m--> 291\u001b[1;33m   \u001b[0mDEFINE\u001b[0m\u001b[1;33m(\u001b[0m\u001b[0mparser\u001b[0m\u001b[1;33m,\u001b[0m \u001b[0mname\u001b[0m\u001b[1;33m,\u001b[0m \u001b[0mdefault\u001b[0m\u001b[1;33m,\u001b[0m \u001b[0mhelp\u001b[0m\u001b[1;33m,\u001b[0m \u001b[0mflag_values\u001b[0m\u001b[1;33m,\u001b[0m \u001b[0mserializer\u001b[0m\u001b[1;33m,\u001b[0m \u001b[1;33m**\u001b[0m\u001b[0margs\u001b[0m\u001b[1;33m)\u001b[0m\u001b[1;33m\u001b[0m\u001b[1;33m\u001b[0m\u001b[0m\n\u001b[0m\u001b[0;32m    292\u001b[0m   \u001b[0m_register_bounds_validator_if_needed\u001b[0m\u001b[1;33m(\u001b[0m\u001b[0mparser\u001b[0m\u001b[1;33m,\u001b[0m \u001b[0mname\u001b[0m\u001b[1;33m,\u001b[0m \u001b[0mflag_values\u001b[0m\u001b[1;33m=\u001b[0m\u001b[0mflag_values\u001b[0m\u001b[1;33m)\u001b[0m\u001b[1;33m\u001b[0m\u001b[1;33m\u001b[0m\u001b[0m\n\u001b[0;32m    293\u001b[0m \u001b[1;33m\u001b[0m\u001b[0m\n",
      "\u001b[1;32mc:\\users\\tyler\\appdata\\local\\programs\\python\\python37\\lib\\site-packages\\absl\\flags\\_defines.py\u001b[0m in \u001b[0;36mDEFINE\u001b[1;34m(parser, name, default, help, flag_values, serializer, module_name, **args)\u001b[0m\n\u001b[0;32m     80\u001b[0m   \"\"\"\n\u001b[0;32m     81\u001b[0m   DEFINE_flag(_flag.Flag(parser, serializer, name, default, help, **args),\n\u001b[1;32m---> 82\u001b[1;33m               flag_values, module_name)\n\u001b[0m\u001b[0;32m     83\u001b[0m \u001b[1;33m\u001b[0m\u001b[0m\n\u001b[0;32m     84\u001b[0m \u001b[1;33m\u001b[0m\u001b[0m\n",
      "\u001b[1;32mc:\\users\\tyler\\appdata\\local\\programs\\python\\python37\\lib\\site-packages\\absl\\flags\\_defines.py\u001b[0m in \u001b[0;36mDEFINE_flag\u001b[1;34m(flag, flag_values, module_name)\u001b[0m\n\u001b[0;32m    102\u001b[0m   \u001b[1;31m# Copying the reference to flag_values prevents pychecker warnings.\u001b[0m\u001b[1;33m\u001b[0m\u001b[1;33m\u001b[0m\u001b[1;33m\u001b[0m\u001b[0m\n\u001b[0;32m    103\u001b[0m   \u001b[0mfv\u001b[0m \u001b[1;33m=\u001b[0m \u001b[0mflag_values\u001b[0m\u001b[1;33m\u001b[0m\u001b[1;33m\u001b[0m\u001b[0m\n\u001b[1;32m--> 104\u001b[1;33m   \u001b[0mfv\u001b[0m\u001b[1;33m[\u001b[0m\u001b[0mflag\u001b[0m\u001b[1;33m.\u001b[0m\u001b[0mname\u001b[0m\u001b[1;33m]\u001b[0m \u001b[1;33m=\u001b[0m \u001b[0mflag\u001b[0m\u001b[1;33m\u001b[0m\u001b[1;33m\u001b[0m\u001b[0m\n\u001b[0m\u001b[0;32m    105\u001b[0m   \u001b[1;31m# Tell flag_values who's defining the flag.\u001b[0m\u001b[1;33m\u001b[0m\u001b[1;33m\u001b[0m\u001b[1;33m\u001b[0m\u001b[0m\n\u001b[0;32m    106\u001b[0m   \u001b[1;32mif\u001b[0m \u001b[0mmodule_name\u001b[0m\u001b[1;33m:\u001b[0m\u001b[1;33m\u001b[0m\u001b[1;33m\u001b[0m\u001b[0m\n",
      "\u001b[1;32mc:\\users\\tyler\\appdata\\local\\programs\\python\\python37\\lib\\site-packages\\absl\\flags\\_flagvalues.py\u001b[0m in \u001b[0;36m__setitem__\u001b[1;34m(self, name, flag)\u001b[0m\n\u001b[0;32m    428\u001b[0m         \u001b[1;31m# module is simply being imported a subsequent time.\u001b[0m\u001b[1;33m\u001b[0m\u001b[1;33m\u001b[0m\u001b[1;33m\u001b[0m\u001b[0m\n\u001b[0;32m    429\u001b[0m         \u001b[1;32mreturn\u001b[0m\u001b[1;33m\u001b[0m\u001b[1;33m\u001b[0m\u001b[0m\n\u001b[1;32m--> 430\u001b[1;33m       \u001b[1;32mraise\u001b[0m \u001b[0m_exceptions\u001b[0m\u001b[1;33m.\u001b[0m\u001b[0mDuplicateFlagError\u001b[0m\u001b[1;33m.\u001b[0m\u001b[0mfrom_flag\u001b[0m\u001b[1;33m(\u001b[0m\u001b[0mname\u001b[0m\u001b[1;33m,\u001b[0m \u001b[0mself\u001b[0m\u001b[1;33m)\u001b[0m\u001b[1;33m\u001b[0m\u001b[1;33m\u001b[0m\u001b[0m\n\u001b[0m\u001b[0;32m    431\u001b[0m     \u001b[0mshort_name\u001b[0m \u001b[1;33m=\u001b[0m \u001b[0mflag\u001b[0m\u001b[1;33m.\u001b[0m\u001b[0mshort_name\u001b[0m\u001b[1;33m\u001b[0m\u001b[1;33m\u001b[0m\u001b[0m\n\u001b[0;32m    432\u001b[0m     \u001b[1;31m# If a new flag overrides an old one, we need to cleanup the old flag's\u001b[0m\u001b[1;33m\u001b[0m\u001b[1;33m\u001b[0m\u001b[1;33m\u001b[0m\u001b[0m\n",
      "\u001b[1;31mDuplicateFlagError\u001b[0m: The flag 'mortgage_principal' is defined twice. First from c:\\users\\tyler\\appdata\\local\\programs\\python\\python37\\lib\\site-packages\\ipykernel_launcher.py, Second from c:\\users\\tyler\\appdata\\local\\programs\\python\\python37\\lib\\site-packages\\ipykernel_launcher.py.  Description from first occurrence: Loan amount (principal)"
     ]
    }
   ],
   "source": [
    "flags.DEFINE_float('mortgage_principal', 500000, 'Loan amount (principal)')\n",
    "flags.DEFINE_float('interest_rate', 0.04, 'Interest rate for mortage amortization')\n",
    "flags.DEFINE_integer('mortgage_years', 30, 'Mortgage length')\n",
    "flags.DEFINE_string('interest_type', 'fixed', 'Interest rate type - fixed or variable')\n",
    "flags.DEFINE_string('variable_interest_fluct', 'conservative', 'Interest rate fluctuation / behaviour setting')\n",
    "flags.DEFINE_float('additional_principal', 0, 'Additional principal payment above minimum repayment')\n",
    "flags.DEFINE_integer('annual_payments', 12, 'Number of payments (and compounding events) per year')"
   ]
  },
  {
   "cell_type": "code",
   "execution_count": null,
   "metadata": {},
   "outputs": [],
   "source": [
    "if __name__ == '__main__':\n",
    "    app.run(main)"
   ]
  },
  {
   "cell_type": "code",
   "execution_count": null,
   "metadata": {},
   "outputs": [],
   "source": [
    "def amortize(argv, principal,\n",
    "             interest_rate,\n",
    "             years,\n",
    "             var_interest_rate = False,\n",
    "             interest_rate_fluct = 'aggressive',\n",
    "             addl_principal=0,\n",
    "             annual_payments=12,\n",
    "             start_date=date.today()):\n",
    "\n",
    "    \n",
    "    pmt = -round(np.pmt(interest_rate/annual_payments, years*annual_payments, principal), 2)\n",
    "    # initialize the variables to keep track of the periods and running balances\n",
    "    p = 1\n",
    "    beg_balance = principal\n",
    "    end_balance = principal\n",
    "    \n",
    "    while end_balance > 0:\n",
    "        if var_interest_rate and start_date.month == 6 and interest_rate < 0.06:\n",
    "#             print('Modifying interest rate...')\n",
    "            # Assumes that interest rate changes occur mid-year\n",
    "            if interest_rate_fluct == 'chaotic':\n",
    "                interest_rate = interest_rate * np.random.uniform(0.5, 1.5)\n",
    "            if interest_rate_fluct == 'aggressive':\n",
    "                interest_rate = interest_rate * np.random.uniform(0.8,1.2)\n",
    "            if interest_rate_fluct == 'moderate':\n",
    "                interest_rate = interest_rate * np.random.uniform(0.875,0.125)\n",
    "            if interest_rate_fluct == 'conservative':\n",
    "                interest_rate = interest_rate * np.random.uniform(0.95,1.05)\n",
    "#             print(interest_rate)\n",
    "        \n",
    "        # Recalculate the interest based on the current balance\n",
    "        interest = round(((interest_rate/annual_payments) * beg_balance), 2)\n",
    "\n",
    "        # Determine payment based on whether or not this period will pay off the loan\n",
    "        pmt = min(pmt, beg_balance + interest)\n",
    "        principal = pmt - interest\n",
    "\n",
    "        # Ensure additional payment gets adjusted if the loan is being paid off\n",
    "        addl_principal = min(addl_principal, beg_balance - principal)\n",
    "        end_balance = beg_balance - (principal + addl_principal)\n",
    "\n",
    "        yield OrderedDict([('Month',start_date),\n",
    "                           ('Period', p),\n",
    "                           ('Begin Balance', beg_balance),\n",
    "                           ('Payment', pmt),\n",
    "                           ('Principal', principal),\n",
    "                           ('Interest', interest),\n",
    "                           ('Additional_Payment', addl_principal),\n",
    "                           ('End Balance', end_balance)])\n",
    "\n",
    "        # Increment the counter, balance and date\n",
    "        p += 1\n",
    "        start_date += relativedelta(months=1)\n",
    "        beg_balance = end_balance"
   ]
  },
  {
   "cell_type": "code",
   "execution_count": null,
   "metadata": {},
   "outputs": [],
   "source": [
    "def amortize_format(df):\n",
    "    \"\"\"\n",
    "    Format amortize generator.\n",
    "    \n",
    "    \"\"\"\n",
    "    \n",
    "    df.set_index('Month', inplace=True)\n",
    "    df.index = pd.to_datetime(df.index)\n",
    "    return df"
   ]
  },
  {
   "cell_type": "code",
   "execution_count": null,
   "metadata": {
    "scrolled": false
   },
   "outputs": [],
   "source": [
    "schedule_var = pd.DataFrame(amortize(700000, 0.04, 30, \n",
    "                                     var_interest_rate=True,\n",
    "                                     interest_rate_fluct = 'chaotic',\n",
    "                                     addl_principal=200,\n",
    "                                     start_date=date(2019, 12,1)))"
   ]
  },
  {
   "cell_type": "markdown",
   "metadata": {},
   "source": [
    "# Monte Carlo Simulation of Variable Loan"
   ]
  },
  {
   "cell_type": "code",
   "execution_count": 7,
   "metadata": {},
   "outputs": [],
   "source": [
    "def mc_sim(iters=10):\n",
    "    sim_results = {i: pd.DataFrame(amortize(700000, 0.04, 30, \n",
    "                                     var_interest_rate=True,\n",
    "                                     interest_rate_fluct='conservative',\n",
    "                                     addl_principal=200,\n",
    "                                     start_date=date(2019, 12,1)))['Interest'] for i in range(iters)}\n",
    "    return sim_results"
   ]
  },
  {
   "cell_type": "code",
   "execution_count": null,
   "metadata": {},
   "outputs": [],
   "source": []
  },
  {
   "cell_type": "code",
   "execution_count": null,
   "metadata": {},
   "outputs": [],
   "source": [
    "for i in range(10):\n",
    "    mc_sim()"
   ]
  },
  {
   "cell_type": "markdown",
   "metadata": {},
   "source": [
    "# Global Date Table"
   ]
  },
  {
   "cell_type": "code",
   "execution_count": null,
   "metadata": {},
   "outputs": [],
   "source": [
    "# Global date table is required as it's a reference of all financial information\n",
    "currentDate = date.today()\n",
    "print(f'Todays Date: {currentDate}')\n",
    "\n",
    "birthdate = '1993-04-28'\n",
    "age = (date.today() - datetime.strptime(birthdate, '%Y-%m-%d').date()) // timedelta(days=365.2425)\n",
    "male = True\n",
    "female = False\n",
    "print(f'Individual Details -Birthdate: {birthdate} - Age: {age} - Gender: {male}')\n",
    "\n",
    "# Life expectancy\n",
    "# https://www.aihw.gov.au/reports/life-expectancy-death/deaths-in-australia/contents/life-expectancy\n",
    "if female:\n",
    "    # Life expectancy (at birth): 84.6 years\n",
    "    lifeExpectancyFemale = 84.6\n",
    "    daysLeftAlive = lifeExpectancyFemale - age\n",
    "#     lastDate = \n",
    "if male:\n",
    "    # Life expectancy (at birth): 80.4 years\n",
    "    lifeExpectancyMale = 80.4\n",
    "    daysLeftAlive = (lifeExpectancyMale - age) * 365.2425\n",
    "    lastDate = currentDate +timedelta(days=daysLeftAlive)\n",
    "    print(f'Last Date: {lastDate}')"
   ]
  },
  {
   "cell_type": "markdown",
   "metadata": {},
   "source": [
    "### Creating global date table with general, constant, income"
   ]
  },
  {
   "cell_type": "code",
   "execution_count": null,
   "metadata": {},
   "outputs": [],
   "source": [
    "monthly_income = 100000/12"
   ]
  },
  {
   "cell_type": "code",
   "execution_count": null,
   "metadata": {},
   "outputs": [],
   "source": [
    "freqReq = 'MS'\n",
    "dateList = pd.date_range(currentDate, lastDate, freq = freqReq, closed='right').strftime('%Y-%m-%d').tolist()"
   ]
  },
  {
   "cell_type": "code",
   "execution_count": null,
   "metadata": {},
   "outputs": [],
   "source": [
    "dfInitData = np.ones(shape= (len(dateList)+1)) * monthly_income"
   ]
  },
  {
   "cell_type": "code",
   "execution_count": null,
   "metadata": {},
   "outputs": [],
   "source": [
    "globalDateDict = dict(zip(dateList, dfInitData))"
   ]
  },
  {
   "cell_type": "code",
   "execution_count": null,
   "metadata": {},
   "outputs": [],
   "source": [
    "dfGlobalDate = pd.DataFrame.from_dict(globalDateDict, orient='index')"
   ]
  },
  {
   "cell_type": "code",
   "execution_count": null,
   "metadata": {},
   "outputs": [],
   "source": [
    "dfGlobalDate.columns = ['Monthly_Income']"
   ]
  },
  {
   "cell_type": "code",
   "execution_count": null,
   "metadata": {},
   "outputs": [],
   "source": [
    "dfGlobalDate.index = pd.to_datetime(dfGlobalDate.index)"
   ]
  },
  {
   "cell_type": "markdown",
   "metadata": {},
   "source": [
    "# Testing join functionality - variable loan"
   ]
  },
  {
   "cell_type": "code",
   "execution_count": null,
   "metadata": {
    "scrolled": true
   },
   "outputs": [],
   "source": [
    "df_dev = pd.merge(dfGlobalDate, schedule_var, how='outer', left_index=True, right_index=True)"
   ]
  },
  {
   "cell_type": "markdown",
   "metadata": {},
   "source": [
    "### Calculating Monthly Disposable Income"
   ]
  },
  {
   "cell_type": "code",
   "execution_count": null,
   "metadata": {
    "scrolled": true
   },
   "outputs": [],
   "source": [
    "df_dev.fillna(0, inplace=True)"
   ]
  },
  {
   "cell_type": "code",
   "execution_count": null,
   "metadata": {},
   "outputs": [],
   "source": [
    "df_dev['Monthly_Disposable_Income'] = df_dev['Monthly_Income'] - df_dev['Payment'] - df_dev['Additional_Payment']"
   ]
  },
  {
   "cell_type": "code",
   "execution_count": null,
   "metadata": {},
   "outputs": [],
   "source": [
    "df_dev.head()"
   ]
  },
  {
   "cell_type": "code",
   "execution_count": null,
   "metadata": {},
   "outputs": [],
   "source": [
    "df_dev.plot(y=['Monthly_Disposable_Income','Payment'], title='Temporal Cashflow')\n",
    "# df_dev.plot(y=)"
   ]
  },
  {
   "cell_type": "code",
   "execution_count": null,
   "metadata": {},
   "outputs": [],
   "source": [
    "df_dev.plot(y='Interest', title='Interest')"
   ]
  },
  {
   "cell_type": "code",
   "execution_count": null,
   "metadata": {},
   "outputs": [],
   "source": []
  }
 ],
 "metadata": {
  "kernelspec": {
   "display_name": "Python 3",
   "language": "python",
   "name": "python3"
  },
  "language_info": {
   "codemirror_mode": {
    "name": "ipython",
    "version": 3
   },
   "file_extension": ".py",
   "mimetype": "text/x-python",
   "name": "python",
   "nbconvert_exporter": "python",
   "pygments_lexer": "ipython3",
   "version": "3.7.3"
  }
 },
 "nbformat": 4,
 "nbformat_minor": 2
}
