{
 "cells": [
  {
   "cell_type": "markdown",
   "metadata": {},
   "source": [
    "# Personal Financial Modelling\n",
    "- src: https://pbpython.com/amortization-model-revised.html"
   ]
  },
  {
   "cell_type": "code",
   "execution_count": 12,
   "metadata": {},
   "outputs": [],
   "source": [
    "import pandas as pd\n",
    "from datetime import date\n",
    "import numpy as np\n",
    "from collections import OrderedDict\n",
    "from dateutil.relativedelta import *\n",
    "from datetime import datetime, timedelta\n",
    "%matplotlib inline"
   ]
  },
  {
   "cell_type": "code",
   "execution_count": 13,
   "metadata": {},
   "outputs": [],
   "source": [
    "from absl import flags\n",
    "from absl import app"
   ]
  },
  {
   "cell_type": "code",
   "execution_count": 18,
   "metadata": {},
   "outputs": [],
   "source": [
    "def amortize(principal,\n",
    "             interest_rate,\n",
    "             years,\n",
    "             var_interest_rate = False,\n",
    "             interest_rate_fluct = 'aggressive',\n",
    "             addl_principal=0,\n",
    "             annual_payments=12,\n",
    "             start_date=date.today()):\n",
    "\n",
    "    \n",
    "    pmt = -round(np.pmt(interest_rate/annual_payments, years*annual_payments, principal), 2)\n",
    "    # initialize the variables to keep track of the periods and running balances\n",
    "    p = 1\n",
    "    beg_balance = principal\n",
    "    end_balance = principal\n",
    "    \n",
    "    while end_balance > 0:\n",
    "        if var_interest_rate and start_date.month == 6 and interest_rate < 0.06:\n",
    "#             print('Modifying interest rate...')\n",
    "            # Assumes that interest rate changes occur mid-year\n",
    "            if interest_rate_fluct == 'chaotic':\n",
    "                interest_rate = interest_rate * np.random.uniform(0.5, 1.5)\n",
    "            if interest_rate_fluct == 'aggressive':\n",
    "                interest_rate = interest_rate * np.random.uniform(0.8,1.2)\n",
    "            if interest_rate_fluct == 'moderate':\n",
    "                interest_rate = interest_rate * np.random.uniform(0.875,0.125)\n",
    "            if interest_rate_fluct == 'conservative':\n",
    "                interest_rate = interest_rate * np.random.uniform(0.95,1.05)\n",
    "#             print(interest_rate)\n",
    "        \n",
    "        # Recalculate the interest based on the current balance\n",
    "        interest = round(((interest_rate/annual_payments) * beg_balance), 2)\n",
    "\n",
    "        # Determine payment based on whether or not this period will pay off the loan\n",
    "        pmt = min(pmt, beg_balance + interest)\n",
    "        principal = pmt - interest\n",
    "\n",
    "        # Ensure additional payment gets adjusted if the loan is being paid off\n",
    "        addl_principal = min(addl_principal, beg_balance - principal)\n",
    "        end_balance = beg_balance - (principal + addl_principal)\n",
    "\n",
    "        yield OrderedDict([('Month',start_date),\n",
    "                           ('Period', p),\n",
    "                           ('Begin Balance', beg_balance),\n",
    "                           ('Payment', pmt),\n",
    "                           ('Principal', principal),\n",
    "                           ('Interest', interest),\n",
    "                           ('Additional_Payment', addl_principal),\n",
    "                           ('End Balance', end_balance)])\n",
    "\n",
    "        # Increment the counter, balance and date\n",
    "        p += 1\n",
    "        start_date += relativedelta(months=1)\n",
    "        beg_balance = end_balance"
   ]
  },
  {
   "cell_type": "code",
   "execution_count": 19,
   "metadata": {},
   "outputs": [],
   "source": [
    "def amortize_format(df):\n",
    "    \"\"\"\n",
    "    Format amortize generator.\n",
    "    \n",
    "    \"\"\"\n",
    "    \n",
    "    df.set_index('Month', inplace=True)\n",
    "    df.index = pd.to_datetime(df.index)\n",
    "    return df"
   ]
  },
  {
   "cell_type": "code",
   "execution_count": 20,
   "metadata": {
    "scrolled": false
   },
   "outputs": [],
   "source": [
    "schedule_var = pd.DataFrame(amortize(700000, 0.04, 30,\n",
    "                                     var_interest_rate=True,\n",
    "                                     interest_rate_fluct = 'chaotic',\n",
    "                                     addl_principal=200,\n",
    "                                     start_date=date(2019, 12,1)))"
   ]
  },
  {
   "cell_type": "markdown",
   "metadata": {},
   "source": [
    "# Monte Carlo Simulation of Variable Loan"
   ]
  },
  {
   "cell_type": "code",
   "execution_count": null,
   "metadata": {},
   "outputs": [],
   "source": []
  },
  {
   "cell_type": "code",
   "execution_count": 23,
   "metadata": {},
   "outputs": [],
   "source": [
    "def mc_sim(iters=10):\n",
    "    sim_results = {str(i): amortize_format(pd.DataFrame(amortize(700000, 0.04, 30, \n",
    "                                     var_interest_rate=True,\n",
    "                                     interest_rate_fluct='conservative',\n",
    "                                     addl_principal=200,\n",
    "                                     start_date=date(2019, 12,1))))['Interest'] for i in range(iters)}\n",
    "    # Convert sim_results into one DataFrame\n",
    "    df = pd.DataFrame.from_dict(sim_results, orient='index').T\n",
    "    df.index = pd.to_datetime(df.index)\n",
    "    \n",
    "    return df"
   ]
  },
  {
   "cell_type": "code",
   "execution_count": null,
   "metadata": {},
   "outputs": [],
   "source": []
  },
  {
   "cell_type": "code",
   "execution_count": 24,
   "metadata": {},
   "outputs": [],
   "source": [
    "sim_results = mc_sim()"
   ]
  },
  {
   "cell_type": "code",
   "execution_count": 26,
   "metadata": {},
   "outputs": [
    {
     "data": {
      "text/plain": [
       "<matplotlib.axes._subplots.AxesSubplot at 0x25ef67b1748>"
      ]
     },
     "execution_count": 26,
     "metadata": {},
     "output_type": "execute_result"
    },
    {
     "data": {
      "image/png": "[encoded data removed]",
      "text/plain": [
       "<Figure size 432x288 with 1 Axes>"
      ]
     },
     "metadata": {
      "needs_background": "light"
     },
     "output_type": "display_data"
    }
   ],
   "source": [
    "sim_results.plot()"
   ]
  },
  {
   "cell_type": "code",
   "execution_count": null,
   "metadata": {},
   "outputs": [],
   "source": []
  },
  {
   "cell_type": "markdown",
   "metadata": {},
   "source": [
    "# Global Date Table"
   ]
  },
  {
   "cell_type": "code",
   "execution_count": null,
   "metadata": {},
   "outputs": [],
   "source": [
    "# Global date table is required as it's a reference of all financial information\n",
    "currentDate = date.today()\n",
    "print(f'Todays Date: {currentDate}')\n",
    "\n",
    "birthdate = '1993-04-28'\n",
    "age = (date.today() - datetime.strptime(birthdate, '%Y-%m-%d').date()) // timedelta(days=365.2425)\n",
    "male = True\n",
    "female = False\n",
    "print(f'Individual Details -Birthdate: {birthdate} - Age: {age} - Gender: {male}')\n",
    "\n",
    "# Life expectancy\n",
    "# https://www.aihw.gov.au/reports/life-expectancy-death/deaths-in-australia/contents/life-expectancy\n",
    "if female:\n",
    "    # Life expectancy (at birth): 84.6 years\n",
    "    lifeExpectancyFemale = 84.6\n",
    "    daysLeftAlive = lifeExpectancyFemale - age\n",
    "#     lastDate = \n",
    "if male:\n",
    "    # Life expectancy (at birth): 80.4 years\n",
    "    lifeExpectancyMale = 80.4\n",
    "    daysLeftAlive = (lifeExpectancyMale - age) * 365.2425\n",
    "    lastDate = currentDate +timedelta(days=daysLeftAlive)\n",
    "    print(f'Last Date: {lastDate}')"
   ]
  },
  {
   "cell_type": "markdown",
   "metadata": {},
   "source": [
    "### Creating global date table with general, constant, income"
   ]
  },
  {
   "cell_type": "code",
   "execution_count": null,
   "metadata": {},
   "outputs": [],
   "source": [
    "monthly_income = 100000/12"
   ]
  },
  {
   "cell_type": "code",
   "execution_count": null,
   "metadata": {},
   "outputs": [],
   "source": [
    "freqReq = 'MS'\n",
    "dateList = pd.date_range(currentDate, lastDate, freq = freqReq, closed='right').strftime('%Y-%m-%d').tolist()"
   ]
  },
  {
   "cell_type": "code",
   "execution_count": null,
   "metadata": {},
   "outputs": [],
   "source": [
    "dfInitData = np.ones(shape= (len(dateList)+1)) * monthly_income"
   ]
  },
  {
   "cell_type": "code",
   "execution_count": null,
   "metadata": {},
   "outputs": [],
   "source": [
    "globalDateDict = dict(zip(dateList, dfInitData))"
   ]
  },
  {
   "cell_type": "code",
   "execution_count": null,
   "metadata": {},
   "outputs": [],
   "source": [
    "dfGlobalDate = pd.DataFrame.from_dict(globalDateDict, orient='index')"
   ]
  },
  {
   "cell_type": "code",
   "execution_count": null,
   "metadata": {},
   "outputs": [],
   "source": [
    "dfGlobalDate.columns = ['Monthly_Income']"
   ]
  },
  {
   "cell_type": "code",
   "execution_count": null,
   "metadata": {},
   "outputs": [],
   "source": [
    "dfGlobalDate.index = pd.to_datetime(dfGlobalDate.index)"
   ]
  },
  {
   "cell_type": "markdown",
   "metadata": {},
   "source": [
    "# Testing join functionality - variable loan"
   ]
  },
  {
   "cell_type": "code",
   "execution_count": null,
   "metadata": {
    "scrolled": true
   },
   "outputs": [],
   "source": [
    "df_dev = pd.merge(dfGlobalDate, schedule_var, how='outer', left_index=True, right_index=True)"
   ]
  },
  {
   "cell_type": "markdown",
   "metadata": {},
   "source": [
    "### Calculating Monthly Disposable Income"
   ]
  },
  {
   "cell_type": "code",
   "execution_count": null,
   "metadata": {
    "scrolled": true
   },
   "outputs": [],
   "source": [
    "df_dev.fillna(0, inplace=True)"
   ]
  },
  {
   "cell_type": "code",
   "execution_count": null,
   "metadata": {},
   "outputs": [],
   "source": [
    "df_dev['Monthly_Disposable_Income'] = df_dev['Monthly_Income'] - df_dev['Payment'] - df_dev['Additional_Payment']"
   ]
  },
  {
   "cell_type": "code",
   "execution_count": null,
   "metadata": {},
   "outputs": [],
   "source": [
    "df_dev.head()"
   ]
  },
  {
   "cell_type": "code",
   "execution_count": null,
   "metadata": {},
   "outputs": [],
   "source": [
    "df_dev.plot(y=['Monthly_Disposable_Income','Payment'], title='Temporal Cashflow')\n",
    "# df_dev.plot(y=)"
   ]
  },
  {
   "cell_type": "code",
   "execution_count": null,
   "metadata": {},
   "outputs": [],
   "source": [
    "df_dev.plot(y='Interest', title='Interest')"
   ]
  },
  {
   "cell_type": "code",
   "execution_count": null,
   "metadata": {},
   "outputs": [],
   "source": []
  }
 ],
 "metadata": {
  "kernelspec": {
   "display_name": "Python 3",
   "language": "python",
   "name": "python3"
  },
  "language_info": {
   "codemirror_mode": {
    "name": "ipython",
    "version": 3
   },
   "file_extension": ".py",
   "mimetype": "text/x-python",
   "name": "python",
   "nbconvert_exporter": "python",
   "pygments_lexer": "ipython3",
   "version": "3.7.3"
  }
 },
 "nbformat": 4,
 "nbformat_minor": 2
}
