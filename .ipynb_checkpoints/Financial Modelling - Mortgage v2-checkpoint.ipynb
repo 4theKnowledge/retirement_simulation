{
 "cells": [
  {
   "cell_type": "markdown",
   "metadata": {},
   "source": [
    "# Personal Financial Modelling\n",
    "- src: https://pbpython.com/amortization-model-revised.html"
   ]
  },
  {
   "cell_type": "code",
   "execution_count": 38,
   "metadata": {},
   "outputs": [],
   "source": [
    "import pandas as pd\n",
    "from datetime import date\n",
    "import numpy as np\n",
    "from collections import OrderedDict\n",
    "from dateutil.relativedelta import *\n",
    "from datetime import datetime, timedelta\n",
    "import matplotlib.pyplot as plt\n",
    "%matplotlib inline"
   ]
  },
  {
   "cell_type": "code",
   "execution_count": 169,
   "metadata": {},
   "outputs": [],
   "source": [
    "import matplotlib.pyplot as plt\n",
    "plt.rcParams[\"figure.figsize\"] = (20,6)"
   ]
  },
  {
   "cell_type": "code",
   "execution_count": 170,
   "metadata": {},
   "outputs": [],
   "source": [
    "from absl import flags\n",
    "from absl import app"
   ]
  },
  {
   "cell_type": "code",
   "execution_count": 171,
   "metadata": {},
   "outputs": [],
   "source": [
    "def amortize(principal,\n",
    "             interest_rate,\n",
    "             years,\n",
    "             var_interest_rate = False,\n",
    "             interest_rate_fluct = 'aggressive',\n",
    "             addl_principal=0,\n",
    "             annual_payments=12,\n",
    "             start_date=date.today(),\n",
    "             lump_sum_paymnt = 0,\n",
    "             lump_sum_date = date(2050,1,1)):\n",
    "\n",
    "    init_addl_principal = addl_principal\n",
    "    \n",
    "    pmt = -round(np.pmt(interest_rate/annual_payments, years*annual_payments, principal), 2)\n",
    "    # initialize the variables to keep track of the periods and running balances\n",
    "    p = 1\n",
    "    beg_balance = principal\n",
    "    end_balance = principal\n",
    "    \n",
    "    while end_balance > 0:\n",
    "        # Fluctuate variable interest...\n",
    "        if var_interest_rate and start_date.month == 6 and interest_rate < 0.06:\n",
    "#             print('Modifying interest rate...')\n",
    "            # Assumes that interest rate changes occur mid-year\n",
    "            if interest_rate_fluct == 'chaotic':\n",
    "                interest_rate = interest_rate * np.random.uniform(0.5, 1.5)\n",
    "            if interest_rate_fluct == 'aggressive':\n",
    "                interest_rate = interest_rate * np.random.uniform(0.8,1.2)\n",
    "            if interest_rate_fluct == 'moderate':\n",
    "                interest_rate = interest_rate * np.random.uniform(0.875,0.125)\n",
    "            if interest_rate_fluct == 'conservative':\n",
    "                interest_rate = interest_rate * np.random.uniform(0.95,1.05)\n",
    "#             print(interest_rate)\n",
    "        \n",
    "        # Recalculate the interest based on the current balance\n",
    "        interest = round(((interest_rate/annual_payments) * beg_balance), 2)\n",
    "\n",
    "        # Determine payment based on whether or not this period will pay off the loan\n",
    "        pmt = min(pmt, beg_balance + interest)\n",
    "        principal = pmt - interest\n",
    "        \n",
    "\n",
    "        # Ensure additional payment gets adjusted if the loan is being paid off.\n",
    "        # If the difference between the beginning balance and principal is < additional payment, reduce additional\n",
    "        # payment to match remaining balance.\n",
    "        \n",
    "        # Add lump-sum event (Assumes that payment occurs at month begin)\n",
    "        if start_date == lump_sum_date:\n",
    "            print('Adhoc - Lump sum payment')\n",
    "            adhoc_paymnt = min((addl_principal+lump_sum_paymnt), beg_balance - principal)\n",
    "            print(adhoc_paymnt)\n",
    "            end_balance = beg_balance - (principal + adhoc_paymnt)\n",
    "        else:\n",
    "            addl_principal = min(addl_principal, beg_balance - principal)\n",
    "            end_balance = beg_balance - (principal + addl_principal)\n",
    "            adhoc_paymnt = 0\n",
    "\n",
    "        yield OrderedDict([('Month',start_date),\n",
    "                           ('Period', p),\n",
    "                           ('Begin Balance', beg_balance),\n",
    "                           ('Payment', pmt),\n",
    "                           ('Principal', principal),\n",
    "                           ('Interest', interest),\n",
    "                           ('Additional_Payment', addl_principal),\n",
    "                           ('Adhoc Payment', adhoc_paymnt),\n",
    "                           ('End Balance', end_balance)])\n",
    "        \n",
    "        if addl_principal > (beg_balance - principal):\n",
    "            addl_principal = init_addl_principal\n",
    "        \n",
    "        # Increment the counter, balance and date\n",
    "        p += 1\n",
    "        start_date += relativedelta(months=1)\n",
    "        beg_balance = end_balance"
   ]
  },
  {
   "cell_type": "code",
   "execution_count": 172,
   "metadata": {},
   "outputs": [],
   "source": [
    "def amortize_format(df):\n",
    "    \"\"\"\n",
    "    Format amortize generator.\n",
    "    \n",
    "    \"\"\"\n",
    "    \n",
    "    df.set_index('Month', inplace=True)\n",
    "    df.index = pd.to_datetime(df.index)\n",
    "    return df"
   ]
  },
  {
   "cell_type": "code",
   "execution_count": 173,
   "metadata": {
    "scrolled": false
   },
   "outputs": [
    {
     "name": "stdout",
     "output_type": "stream",
     "text": [
      "Adhoc - Lump sum payment\n",
      "50250\n"
     ]
    }
   ],
   "source": [
    "schedule_var = pd.DataFrame(amortize(300000,\n",
    "                                     0.04, \n",
    "                                     30,\n",
    "                                     var_interest_rate=True,\n",
    "                                     interest_rate_fluct = 'conservative',\n",
    "                                     addl_principal=250,\n",
    "                                     start_date=date(2019,12,1),\n",
    "                                     lump_sum_paymnt = 50000,\n",
    "                                     lump_sum_date=date(2025,6,1)\n",
    "                                    ),\n",
    "                            \n",
    "                           )"
   ]
  },
  {
   "cell_type": "code",
   "execution_count": 178,
   "metadata": {},
   "outputs": [
    {
     "data": {
      "text/html": [
       "<div>\n",
       "<style scoped>\n",
       "    .dataframe tbody tr th:only-of-type {\n",
       "        vertical-align: middle;\n",
       "    }\n",
       "\n",
       "    .dataframe tbody tr th {\n",
       "        vertical-align: top;\n",
       "    }\n",
       "\n",
       "    .dataframe thead th {\n",
       "        text-align: right;\n",
       "    }\n",
       "</style>\n",
       "<table border=\"1\" class=\"dataframe\">\n",
       "  <thead>\n",
       "    <tr style=\"text-align: right;\">\n",
       "      <th></th>\n",
       "      <th>Month</th>\n",
       "      <th>Period</th>\n",
       "      <th>Begin Balance</th>\n",
       "      <th>Payment</th>\n",
       "      <th>Principal</th>\n",
       "      <th>Interest</th>\n",
       "      <th>Additional_Payment</th>\n",
       "      <th>Adhoc Payment</th>\n",
       "      <th>End Balance</th>\n",
       "    </tr>\n",
       "  </thead>\n",
       "  <tbody>\n",
       "    <tr>\n",
       "      <th>210</th>\n",
       "      <td>2037-06-01</td>\n",
       "      <td>211</td>\n",
       "      <td>7282.23</td>\n",
       "      <td>1432.25</td>\n",
       "      <td>1407.76</td>\n",
       "      <td>24.49</td>\n",
       "      <td>250.0</td>\n",
       "      <td>0</td>\n",
       "      <td>5624.47</td>\n",
       "    </tr>\n",
       "    <tr>\n",
       "      <th>211</th>\n",
       "      <td>2037-07-01</td>\n",
       "      <td>212</td>\n",
       "      <td>5624.47</td>\n",
       "      <td>1432.25</td>\n",
       "      <td>1413.34</td>\n",
       "      <td>18.91</td>\n",
       "      <td>250.0</td>\n",
       "      <td>0</td>\n",
       "      <td>3961.13</td>\n",
       "    </tr>\n",
       "    <tr>\n",
       "      <th>212</th>\n",
       "      <td>2037-08-01</td>\n",
       "      <td>213</td>\n",
       "      <td>3961.13</td>\n",
       "      <td>1432.25</td>\n",
       "      <td>1418.93</td>\n",
       "      <td>13.32</td>\n",
       "      <td>250.0</td>\n",
       "      <td>0</td>\n",
       "      <td>2292.20</td>\n",
       "    </tr>\n",
       "    <tr>\n",
       "      <th>213</th>\n",
       "      <td>2037-09-01</td>\n",
       "      <td>214</td>\n",
       "      <td>2292.20</td>\n",
       "      <td>1432.25</td>\n",
       "      <td>1424.54</td>\n",
       "      <td>7.71</td>\n",
       "      <td>250.0</td>\n",
       "      <td>0</td>\n",
       "      <td>617.66</td>\n",
       "    </tr>\n",
       "    <tr>\n",
       "      <th>214</th>\n",
       "      <td>2037-10-01</td>\n",
       "      <td>215</td>\n",
       "      <td>617.66</td>\n",
       "      <td>619.74</td>\n",
       "      <td>617.66</td>\n",
       "      <td>2.08</td>\n",
       "      <td>0.0</td>\n",
       "      <td>0</td>\n",
       "      <td>0.00</td>\n",
       "    </tr>\n",
       "  </tbody>\n",
       "</table>\n",
       "</div>"
      ],
      "text/plain": [
       "          Month  Period  Begin Balance  Payment  Principal  Interest  \\\n",
       "210  2037-06-01     211        7282.23  1432.25    1407.76     24.49   \n",
       "211  2037-07-01     212        5624.47  1432.25    1413.34     18.91   \n",
       "212  2037-08-01     213        3961.13  1432.25    1418.93     13.32   \n",
       "213  2037-09-01     214        2292.20  1432.25    1424.54      7.71   \n",
       "214  2037-10-01     215         617.66   619.74     617.66      2.08   \n",
       "\n",
       "     Additional_Payment  Adhoc Payment  End Balance  \n",
       "210               250.0              0      5624.47  \n",
       "211               250.0              0      3961.13  \n",
       "212               250.0              0      2292.20  \n",
       "213               250.0              0       617.66  \n",
       "214                 0.0              0         0.00  "
      ]
     },
     "execution_count": 178,
     "metadata": {},
     "output_type": "execute_result"
    }
   ],
   "source": [
    "schedule_var.tail()"
   ]
  },
  {
   "cell_type": "code",
   "execution_count": 174,
   "metadata": {},
   "outputs": [],
   "source": [
    "schedule_var_no_ls = pd.DataFrame(amortize(300000,\n",
    "                                     0.04, \n",
    "                                     30,\n",
    "                                     var_interest_rate=True,\n",
    "                                     interest_rate_fluct = 'conservative',\n",
    "                                     addl_principal=250,\n",
    "                                     start_date=date(2019,12,1),\n",
    "                                     lump_sum_paymnt = 0,\n",
    "                                     lump_sum_date=None\n",
    "                                    ),\n",
    "                            \n",
    "                           )"
   ]
  },
  {
   "cell_type": "code",
   "execution_count": 183,
   "metadata": {},
   "outputs": [
    {
     "data": {
      "text/plain": [
       "Text(0.5, 0, 'Time (Months)')"
      ]
     },
     "execution_count": 183,
     "metadata": {},
     "output_type": "execute_result"
    },
    {
     "data": {
      "image/png": "[encoded data removed]",
      "text/plain": [
       "<Figure size 1440x432 with 1 Axes>"
      ]
     },
     "metadata": {
      "needs_background": "light"
     },
     "output_type": "display_data"
    }
   ],
   "source": [
    "plt.scatter(x=schedule_var['Month'], y=schedule_var['Interest'])\n",
    "plt.scatter(x=schedule_var_no_ls['Month'], y=schedule_var_no_ls['Interest'])\n",
    "plt.legend(['Lump Sum', 'No Lump Sum'])\n",
    "plt.ylabel('Interest ($)')\n",
    "plt.xlabel('Time (Months)')"
   ]
  },
  {
   "cell_type": "code",
   "execution_count": 181,
   "metadata": {},
   "outputs": [
    {
     "name": "stdout",
     "output_type": "stream",
     "text": [
      "Time saved on loan: 5 years\n"
     ]
    }
   ],
   "source": [
    "loan_end_no_ls = schedule_var_no_ls['Month'].iloc[-1].year\n",
    "loan_end = schedule_var['Month'].iloc[-1].year\n",
    "print(f'Time saved on loan: {loan_end_no_ls - loan_end} years')"
   ]
  },
  {
   "cell_type": "markdown",
   "metadata": {},
   "source": [
    "# Monte Carlo Simulation of Variable Loan"
   ]
  },
  {
   "cell_type": "code",
   "execution_count": null,
   "metadata": {},
   "outputs": [],
   "source": []
  },
  {
   "cell_type": "code",
   "execution_count": 6,
   "metadata": {},
   "outputs": [],
   "source": [
    "def mc_sim(iters=100):\n",
    "    sim_results = {str(i): amortize_format(pd.DataFrame(amortize(700000, 0.04, 30, \n",
    "                                     var_interest_rate=True,\n",
    "                                     interest_rate_fluct='conservative',\n",
    "                                     addl_principal=200,\n",
    "                                     start_date=date(2019, 12,1))))['Interest'] for i in range(iters)}\n",
    "    # Convert sim_results into one DataFrame\n",
    "    df = pd.DataFrame.from_dict(sim_results, orient='index').T\n",
    "    df.index = pd.to_datetime(df.index)\n",
    "    \n",
    "    return df"
   ]
  },
  {
   "cell_type": "code",
   "execution_count": 7,
   "metadata": {},
   "outputs": [],
   "source": [
    "sim_results = mc_sim()"
   ]
  },
  {
   "cell_type": "code",
   "execution_count": 8,
   "metadata": {},
   "outputs": [
    {
     "data": {
      "text/plain": [
       "<matplotlib.axes._subplots.AxesSubplot at 0x29f89a7ecf8>"
      ]
     },
     "execution_count": 8,
     "metadata": {},
     "output_type": "execute_result"
    },
    {
     "data": {
      "image/png": "[encoded data removed]",
      "text/plain": [
       "<Figure size 432x288 with 1 Axes>"
      ]
     },
     "metadata": {
      "needs_background": "light"
     },
     "output_type": "display_data"
    }
   ],
   "source": [
    "sim_results.plot(legend=False)"
   ]
  },
  {
   "cell_type": "code",
   "execution_count": 9,
   "metadata": {},
   "outputs": [],
   "source": [
    "def compute_stats(df):\n",
    "    \"\"\"\n",
    "    \"\"\"\n",
    "    \n",
    "    df.fillna(0, inplace=True)\n",
    "    df['mean'] = df.mean(axis=1)\n",
    "    df['q25'] = df.quantile(0.25, axis=1)\n",
    "    df['q75'] = df.quantile(0.75, axis=1)\n",
    "    \n",
    "    return df"
   ]
  },
  {
   "cell_type": "code",
   "execution_count": 10,
   "metadata": {},
   "outputs": [],
   "source": [
    "df_w_stats = compute_stats(sim_results)"
   ]
  },
  {
   "cell_type": "code",
   "execution_count": 11,
   "metadata": {},
   "outputs": [
    {
     "data": {
      "text/html": [
       "<div>\n",
       "<style scoped>\n",
       "    .dataframe tbody tr th:only-of-type {\n",
       "        vertical-align: middle;\n",
       "    }\n",
       "\n",
       "    .dataframe tbody tr th {\n",
       "        vertical-align: top;\n",
       "    }\n",
       "\n",
       "    .dataframe thead th {\n",
       "        text-align: right;\n",
       "    }\n",
       "</style>\n",
       "<table border=\"1\" class=\"dataframe\">\n",
       "  <thead>\n",
       "    <tr style=\"text-align: right;\">\n",
       "      <th></th>\n",
       "      <th>0</th>\n",
       "      <th>1</th>\n",
       "      <th>2</th>\n",
       "      <th>3</th>\n",
       "      <th>4</th>\n",
       "      <th>5</th>\n",
       "      <th>6</th>\n",
       "      <th>7</th>\n",
       "      <th>8</th>\n",
       "      <th>9</th>\n",
       "      <th>...</th>\n",
       "      <th>93</th>\n",
       "      <th>94</th>\n",
       "      <th>95</th>\n",
       "      <th>96</th>\n",
       "      <th>97</th>\n",
       "      <th>98</th>\n",
       "      <th>99</th>\n",
       "      <th>mean</th>\n",
       "      <th>q25</th>\n",
       "      <th>q75</th>\n",
       "    </tr>\n",
       "  </thead>\n",
       "  <tbody>\n",
       "    <tr>\n",
       "      <th>2019-12-01</th>\n",
       "      <td>2333.33</td>\n",
       "      <td>2333.33</td>\n",
       "      <td>2333.33</td>\n",
       "      <td>2333.33</td>\n",
       "      <td>2333.33</td>\n",
       "      <td>2333.33</td>\n",
       "      <td>2333.33</td>\n",
       "      <td>2333.33</td>\n",
       "      <td>2333.33</td>\n",
       "      <td>2333.33</td>\n",
       "      <td>...</td>\n",
       "      <td>2333.33</td>\n",
       "      <td>2333.33</td>\n",
       "      <td>2333.33</td>\n",
       "      <td>2333.33</td>\n",
       "      <td>2333.33</td>\n",
       "      <td>2333.33</td>\n",
       "      <td>2333.33</td>\n",
       "      <td>2333.33</td>\n",
       "      <td>2333.33</td>\n",
       "      <td>2333.33</td>\n",
       "    </tr>\n",
       "    <tr>\n",
       "      <th>2020-01-01</th>\n",
       "      <td>2329.30</td>\n",
       "      <td>2329.30</td>\n",
       "      <td>2329.30</td>\n",
       "      <td>2329.30</td>\n",
       "      <td>2329.30</td>\n",
       "      <td>2329.30</td>\n",
       "      <td>2329.30</td>\n",
       "      <td>2329.30</td>\n",
       "      <td>2329.30</td>\n",
       "      <td>2329.30</td>\n",
       "      <td>...</td>\n",
       "      <td>2329.30</td>\n",
       "      <td>2329.30</td>\n",
       "      <td>2329.30</td>\n",
       "      <td>2329.30</td>\n",
       "      <td>2329.30</td>\n",
       "      <td>2329.30</td>\n",
       "      <td>2329.30</td>\n",
       "      <td>2329.30</td>\n",
       "      <td>2329.30</td>\n",
       "      <td>2329.30</td>\n",
       "    </tr>\n",
       "    <tr>\n",
       "      <th>2020-02-01</th>\n",
       "      <td>2325.26</td>\n",
       "      <td>2325.26</td>\n",
       "      <td>2325.26</td>\n",
       "      <td>2325.26</td>\n",
       "      <td>2325.26</td>\n",
       "      <td>2325.26</td>\n",
       "      <td>2325.26</td>\n",
       "      <td>2325.26</td>\n",
       "      <td>2325.26</td>\n",
       "      <td>2325.26</td>\n",
       "      <td>...</td>\n",
       "      <td>2325.26</td>\n",
       "      <td>2325.26</td>\n",
       "      <td>2325.26</td>\n",
       "      <td>2325.26</td>\n",
       "      <td>2325.26</td>\n",
       "      <td>2325.26</td>\n",
       "      <td>2325.26</td>\n",
       "      <td>2325.26</td>\n",
       "      <td>2325.26</td>\n",
       "      <td>2325.26</td>\n",
       "    </tr>\n",
       "    <tr>\n",
       "      <th>2020-03-01</th>\n",
       "      <td>2321.21</td>\n",
       "      <td>2321.21</td>\n",
       "      <td>2321.21</td>\n",
       "      <td>2321.21</td>\n",
       "      <td>2321.21</td>\n",
       "      <td>2321.21</td>\n",
       "      <td>2321.21</td>\n",
       "      <td>2321.21</td>\n",
       "      <td>2321.21</td>\n",
       "      <td>2321.21</td>\n",
       "      <td>...</td>\n",
       "      <td>2321.21</td>\n",
       "      <td>2321.21</td>\n",
       "      <td>2321.21</td>\n",
       "      <td>2321.21</td>\n",
       "      <td>2321.21</td>\n",
       "      <td>2321.21</td>\n",
       "      <td>2321.21</td>\n",
       "      <td>2321.21</td>\n",
       "      <td>2321.21</td>\n",
       "      <td>2321.21</td>\n",
       "    </tr>\n",
       "    <tr>\n",
       "      <th>2020-04-01</th>\n",
       "      <td>2317.14</td>\n",
       "      <td>2317.14</td>\n",
       "      <td>2317.14</td>\n",
       "      <td>2317.14</td>\n",
       "      <td>2317.14</td>\n",
       "      <td>2317.14</td>\n",
       "      <td>2317.14</td>\n",
       "      <td>2317.14</td>\n",
       "      <td>2317.14</td>\n",
       "      <td>2317.14</td>\n",
       "      <td>...</td>\n",
       "      <td>2317.14</td>\n",
       "      <td>2317.14</td>\n",
       "      <td>2317.14</td>\n",
       "      <td>2317.14</td>\n",
       "      <td>2317.14</td>\n",
       "      <td>2317.14</td>\n",
       "      <td>2317.14</td>\n",
       "      <td>2317.14</td>\n",
       "      <td>2317.14</td>\n",
       "      <td>2317.14</td>\n",
       "    </tr>\n",
       "  </tbody>\n",
       "</table>\n",
       "<p>5 rows × 103 columns</p>\n",
       "</div>"
      ],
      "text/plain": [
       "                  0        1        2        3        4        5        6  \\\n",
       "2019-12-01  2333.33  2333.33  2333.33  2333.33  2333.33  2333.33  2333.33   \n",
       "2020-01-01  2329.30  2329.30  2329.30  2329.30  2329.30  2329.30  2329.30   \n",
       "2020-02-01  2325.26  2325.26  2325.26  2325.26  2325.26  2325.26  2325.26   \n",
       "2020-03-01  2321.21  2321.21  2321.21  2321.21  2321.21  2321.21  2321.21   \n",
       "2020-04-01  2317.14  2317.14  2317.14  2317.14  2317.14  2317.14  2317.14   \n",
       "\n",
       "                  7        8        9  ...       93       94       95  \\\n",
       "2019-12-01  2333.33  2333.33  2333.33  ...  2333.33  2333.33  2333.33   \n",
       "2020-01-01  2329.30  2329.30  2329.30  ...  2329.30  2329.30  2329.30   \n",
       "2020-02-01  2325.26  2325.26  2325.26  ...  2325.26  2325.26  2325.26   \n",
       "2020-03-01  2321.21  2321.21  2321.21  ...  2321.21  2321.21  2321.21   \n",
       "2020-04-01  2317.14  2317.14  2317.14  ...  2317.14  2317.14  2317.14   \n",
       "\n",
       "                 96       97       98       99     mean      q25      q75  \n",
       "2019-12-01  2333.33  2333.33  2333.33  2333.33  2333.33  2333.33  2333.33  \n",
       "2020-01-01  2329.30  2329.30  2329.30  2329.30  2329.30  2329.30  2329.30  \n",
       "2020-02-01  2325.26  2325.26  2325.26  2325.26  2325.26  2325.26  2325.26  \n",
       "2020-03-01  2321.21  2321.21  2321.21  2321.21  2321.21  2321.21  2321.21  \n",
       "2020-04-01  2317.14  2317.14  2317.14  2317.14  2317.14  2317.14  2317.14  \n",
       "\n",
       "[5 rows x 103 columns]"
      ]
     },
     "execution_count": 11,
     "metadata": {},
     "output_type": "execute_result"
    }
   ],
   "source": [
    "df_w_stats.head()"
   ]
  },
  {
   "cell_type": "code",
   "execution_count": 12,
   "metadata": {},
   "outputs": [
    {
     "data": {
      "text/plain": [
       "<matplotlib.axes._subplots.AxesSubplot at 0x29f8c0730b8>"
      ]
     },
     "execution_count": 12,
     "metadata": {},
     "output_type": "execute_result"
    },
    {
     "data": {
      "image/png": "[encoded data removed]",
      "text/plain": [
       "<Figure size 432x288 with 1 Axes>"
      ]
     },
     "metadata": {
      "needs_background": "light"
     },
     "output_type": "display_data"
    }
   ],
   "source": [
    "df_w_stats.plot(y=['mean', 'q25', 'q75'])"
   ]
  },
  {
   "cell_type": "code",
   "execution_count": null,
   "metadata": {},
   "outputs": [],
   "source": []
  },
  {
   "cell_type": "markdown",
   "metadata": {},
   "source": [
    "# Global Date Table"
   ]
  },
  {
   "cell_type": "code",
   "execution_count": null,
   "metadata": {},
   "outputs": [],
   "source": [
    "# Global date table is required as it's a reference of all financial information\n",
    "currentDate = date.today()\n",
    "print(f'Todays Date: {currentDate}')\n",
    "\n",
    "birthdate = '1993-04-28'\n",
    "age = (date.today() - datetime.strptime(birthdate, '%Y-%m-%d').date()) // timedelta(days=365.2425)\n",
    "male = True\n",
    "female = False\n",
    "print(f'Individual Details -Birthdate: {birthdate} - Age: {age} - Gender: {male}')\n",
    "\n",
    "# Life expectancy\n",
    "# https://www.aihw.gov.au/reports/life-expectancy-death/deaths-in-australia/contents/life-expectancy\n",
    "if female:\n",
    "    # Life expectancy (at birth): 84.6 years\n",
    "    lifeExpectancyFemale = 84.6\n",
    "    daysLeftAlive = lifeExpectancyFemale - age\n",
    "#     lastDate = \n",
    "if male:\n",
    "    # Life expectancy (at birth): 80.4 years\n",
    "    lifeExpectancyMale = 80.4\n",
    "    daysLeftAlive = (lifeExpectancyMale - age) * 365.2425\n",
    "    lastDate = currentDate +timedelta(days=daysLeftAlive)\n",
    "    print(f'Last Date: {lastDate}')"
   ]
  },
  {
   "cell_type": "markdown",
   "metadata": {},
   "source": [
    "### Creating global date table with general, constant, income"
   ]
  },
  {
   "cell_type": "code",
   "execution_count": null,
   "metadata": {},
   "outputs": [],
   "source": [
    "monthly_income = 100000/12"
   ]
  },
  {
   "cell_type": "code",
   "execution_count": null,
   "metadata": {},
   "outputs": [],
   "source": [
    "freqReq = 'MS'\n",
    "dateList = pd.date_range(currentDate, lastDate, freq = freqReq, closed='right').strftime('%Y-%m-%d').tolist()"
   ]
  },
  {
   "cell_type": "code",
   "execution_count": null,
   "metadata": {},
   "outputs": [],
   "source": [
    "dfInitData = np.ones(shape= (len(dateList)+1)) * monthly_income"
   ]
  },
  {
   "cell_type": "code",
   "execution_count": null,
   "metadata": {},
   "outputs": [],
   "source": [
    "globalDateDict = dict(zip(dateList, dfInitData))"
   ]
  },
  {
   "cell_type": "code",
   "execution_count": null,
   "metadata": {},
   "outputs": [],
   "source": [
    "dfGlobalDate = pd.DataFrame.from_dict(globalDateDict, orient='index')"
   ]
  },
  {
   "cell_type": "code",
   "execution_count": null,
   "metadata": {},
   "outputs": [],
   "source": [
    "dfGlobalDate.columns = ['Monthly_Income']"
   ]
  },
  {
   "cell_type": "code",
   "execution_count": null,
   "metadata": {},
   "outputs": [],
   "source": [
    "dfGlobalDate.index = pd.to_datetime(dfGlobalDate.index)"
   ]
  },
  {
   "cell_type": "markdown",
   "metadata": {},
   "source": [
    "# Testing join functionality - variable loan"
   ]
  },
  {
   "cell_type": "code",
   "execution_count": null,
   "metadata": {
    "scrolled": true
   },
   "outputs": [],
   "source": [
    "df_dev = pd.merge(dfGlobalDate, schedule_var, how='outer', left_index=True, right_index=True)"
   ]
  },
  {
   "cell_type": "markdown",
   "metadata": {},
   "source": [
    "### Calculating Monthly Disposable Income"
   ]
  },
  {
   "cell_type": "code",
   "execution_count": null,
   "metadata": {
    "scrolled": true
   },
   "outputs": [],
   "source": [
    "df_dev.fillna(0, inplace=True)"
   ]
  },
  {
   "cell_type": "code",
   "execution_count": null,
   "metadata": {},
   "outputs": [],
   "source": [
    "df_dev['Monthly_Disposable_Income'] = df_dev['Monthly_Income'] - df_dev['Payment'] - df_dev['Additional_Payment']"
   ]
  },
  {
   "cell_type": "code",
   "execution_count": null,
   "metadata": {},
   "outputs": [],
   "source": [
    "df_dev.head()"
   ]
  },
  {
   "cell_type": "code",
   "execution_count": null,
   "metadata": {},
   "outputs": [],
   "source": [
    "df_dev.plot(y=['Monthly_Disposable_Income','Payment'], title='Temporal Cashflow')\n",
    "# df_dev.plot(y=)"
   ]
  },
  {
   "cell_type": "code",
   "execution_count": null,
   "metadata": {},
   "outputs": [],
   "source": [
    "df_dev.plot(y='Interest', title='Interest')"
   ]
  },
  {
   "cell_type": "code",
   "execution_count": null,
   "metadata": {},
   "outputs": [],
   "source": []
  }
 ],
 "metadata": {
  "kernelspec": {
   "display_name": "Python 3",
   "language": "python",
   "name": "python3"
  },
  "language_info": {
   "codemirror_mode": {
    "name": "ipython",
    "version": 3
   },
   "file_extension": ".py",
   "mimetype": "text/x-python",
   "name": "python",
   "nbconvert_exporter": "python",
   "pygments_lexer": "ipython3",
   "version": "3.7.3"
  }
 },
 "nbformat": 4,
 "nbformat_minor": 2
}
